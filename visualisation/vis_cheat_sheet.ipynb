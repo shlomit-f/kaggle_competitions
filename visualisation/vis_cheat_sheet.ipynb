{
  "nbformat": 4,
  "nbformat_minor": 0,
  "metadata": {
    "colab": {
      "provenance": []
    },
    "kernelspec": {
      "name": "python3",
      "display_name": "Python 3"
    }
  },
  "cells": [
    {
      "cell_type": "markdown",
      "metadata": {
        "id": "GJbFchpbHYQv"
      },
      "source": [
        "# import pacs"
      ]
    },
    {
      "cell_type": "code",
      "metadata": {
        "id": "ZfL3mKDjHXTL"
      },
      "source": [
        "from google.colab import auth\n",
        "auth.authenticate_user()"
      ],
      "execution_count": null,
      "outputs": []
    },
    {
      "cell_type": "code",
      "metadata": {
        "id": "xSezRwq7Hdkn"
      },
      "source": [
        "import numpy as np\n",
        "from numpy import log\n",
        "import pandas as pd\n",
        "from datetime import datetime as dt\n",
        "\n",
        "import seaborn as sn\n",
        "from plotly.subplots import make_subplots\n",
        "import plotly.express as px\n",
        "import plotly.graph_objects as go\n",
        "from google.cloud import bigquery\n",
        "import math\n",
        "\n",
        "from sklearn.preprocessing import MinMaxScaler\n",
        "\n",
        "# import itertools\n",
        "# #from itertools import combination\n",
        "\n",
        "# from sklearn.cluster import KMeans\n",
        "# from sklearn.cluster import AgglomerativeClustering\n",
        "\n",
        "# from sklearn.metrics import davies_bouldin_score\n",
        "# from sklearn.metrics import silhouette_score\n",
        "\n"
      ],
      "execution_count": null,
      "outputs": []
    },
    {
      "cell_type": "markdown",
      "metadata": {
        "id": "7b3NlpxUIJqg"
      },
      "source": [
        "# get data"
      ]
    },
    {
      "cell_type": "code",
      "metadata": {
        "id": "e0av9lZmHj2n"
      },
      "source": [
        "# https://cloud.google.com/resource-manager/docs/creating-managing-projects\n",
        "project_id = 'ir-datastor-prod'\n",
        "client = bigquery.Client(project=project_id)\n",
        "\n",
        "sql_time_in_day = '''\n",
        "\n",
        " '''"
      ],
      "execution_count": null,
      "outputs": []
    },
    {
      "cell_type": "code",
      "metadata": {
        "id": "yQcWsu6wHnnE"
      },
      "source": [
        "\n",
        "t_d_df = client.query(sql_time_in_day).to_dataframe()\n",
        "t_d_df.head()"
      ],
      "execution_count": null,
      "outputs": []
    },
    {
      "cell_type": "markdown",
      "metadata": {
        "id": "-10gr1l2VabE"
      },
      "source": [
        "# visualisation"
      ]
    },
    {
      "cell_type": "markdown",
      "metadata": {
        "id": "LH8lrV7kf417"
      },
      "source": [
        "## hist"
      ]
    },
    {
      "cell_type": "code",
      "metadata": {
        "id": "8uOFeE2Mf5jZ"
      },
      "source": [
        "\n",
        "fig = px.histogram(t_d_df,\n",
        "                   x=\"col_name\",\n",
        "                   title='Histogram',\n",
        "                   color_discrete_sequence=['darkorange'],\n",
        "                   nbins=126,\n",
        "                   height=400\n",
        "                   )\n",
        "fig.show()"
      ],
      "execution_count": null,
      "outputs": []
    },
    {
      "cell_type": "markdown",
      "metadata": {
        "id": "nkcmQxVwf0KW"
      },
      "source": [
        "## hist + segemnts from another col"
      ]
    },
    {
      "cell_type": "code",
      "metadata": {
        "id": "pyyxUD2Tf3sv"
      },
      "source": [
        "ax = results.hist(\"col_name\", by=\"gender\",bins=41,grid=False, figsize=(20,12), sharex=True, color='darkblue', zorder=2, rwidth=1)"
      ],
      "execution_count": null,
      "outputs": []
    },
    {
      "cell_type": "markdown",
      "metadata": {
        "id": "hOJ03qkognqF"
      },
      "source": [
        "## sttacked hist (2 hists on one chart - good to show smoothed data)"
      ]
    },
    {
      "cell_type": "code",
      "metadata": {
        "id": "hCJBuYbeKwsi"
      },
      "source": [
        "fig = go.Figure()\n",
        "fig.add_trace(go.Histogram(x=between_dist['duration_between_log'],name='regular_log',nbinsx=300,marker_color='lightskyblue',\n",
        "    opacity=0.7))\n",
        "fig.add_trace(go.Histogram(x=between_dist['log_smoothed'],name='smoothed_log',nbinsx=300,marker_color='#330C73',\n",
        "    opacity=0.7))\n",
        "\n",
        "# Overlay both histograms\n",
        "fig.update_layout(barmode='overlay', title_text='Time between plans distrabution (log)', # title of plot\n",
        "    xaxis_title_text='Value', # xaxis label\n",
        "    yaxis_title_text='Count') # yaxis label)\n",
        "# Reduce opacity to see both histograms\n",
        "#fig.update_traces(opacity=0.8)\n",
        "fig.show()"
      ],
      "execution_count": null,
      "outputs": []
    },
    {
      "cell_type": "markdown",
      "metadata": {
        "id": "-0SGJPEeV0Au"
      },
      "source": [
        "## bar plot"
      ]
    },
    {
      "cell_type": "code",
      "metadata": {
        "id": "_D3q0oCQH4XG"
      },
      "source": [
        "fig = px.bar(t_d_df.sort_values(by=['col_name']), x='user_id', y='col_name',\n",
        "             color='user_id',title='Bar plot',\n",
        "            #color_discrete_sequence=['orange'],\n",
        "             height=400)\n",
        "fig.show()\n",
        "\n"
      ],
      "execution_count": null,
      "outputs": []
    },
    {
      "cell_type": "markdown",
      "metadata": {
        "id": "sYWyhpGmV8t2"
      },
      "source": [
        "## Stacked bar subplots with Shared X-Axes"
      ]
    },
    {
      "cell_type": "code",
      "metadata": {
        "id": "tShzIHIZV-MU"
      },
      "source": [
        "fig = make_subplots(\n",
        "    rows=3, cols=1, shared_xaxes=True, vertical_spacing=0.02\n",
        ")\n",
        "fig.add_trace(go.Histogram(x=df['duration_between_log'].loc[(df['user'] == 'user1')],\n",
        "                            name='user1',nbinsx=300,marker_color='peru'),\n",
        "                            row=1, col=1)\n",
        "\n",
        "fig.add_trace(go.Histogram(x=df['duration_between_log'].loc[(df['user'] == 'user2')],\n",
        "                            name='user1',nbinsx=300,marker_color='firebrick'),\n",
        "                            row=2, col=1)\n",
        "\n",
        "fig.add_trace(go.Histogram(x=df['duration_between_log'].loc[(df['user'] == 'user3')],\n",
        "                            name='user1',nbinsx=300,marker_color='tomato'),\n",
        "                            row=3, col=1)\n",
        "\n",
        "\n",
        "fig.update_layout(height=1000, width=1200,\n",
        "                  title_text=\"Stacked Subplots with Shared X-Axes\")\n",
        "fig.show()"
      ],
      "execution_count": null,
      "outputs": []
    },
    {
      "cell_type": "markdown",
      "metadata": {
        "id": "viIeEFIgfOXh"
      },
      "source": [
        "## bar plot with 2 bars on 1 object on x axis"
      ]
    },
    {
      "cell_type": "code",
      "metadata": {
        "id": "tXS0s_XqfNuw"
      },
      "source": [
        "fig = go.Figure()\n",
        "fig.add_trace(go.Bar(\n",
        "    x=between_per_user['user'],\n",
        "    y=between_per_user['median_duration_between'],\n",
        "    name='median',\n",
        "    marker_color='indianred'\n",
        "))\n",
        "fig.add_trace(go.Bar(\n",
        "    x=between_per_user['user'],\n",
        "    y=between_per_user['avg_duration_between'],\n",
        "    name='avg',\n",
        "    marker_color='lightsalmon'\n",
        "))\n",
        "\n",
        "# Here we modify the tickangle of the xaxis, resulting in rotated labels.\n",
        "fig.update_layout(barmode='group',title_text='Time between clicks per user (minutes)', xaxis_tickangle=-45)\n",
        "fig.show()"
      ],
      "execution_count": null,
      "outputs": []
    },
    {
      "cell_type": "markdown",
      "metadata": {
        "id": "f30kemi0VQnU"
      },
      "source": [
        "## scatter plot 2d"
      ]
    },
    {
      "cell_type": "code",
      "metadata": {
        "id": "5Zntg_3zVSXo"
      },
      "source": [
        "fig = px.scatter(df, x=col_list[0], y=col_list[1], color=\"cluster\", hover_data=['user_id'],color_discrete_sequence=['darkturquoise','darkorange','darkmagenta','teal'])\n",
        "\n",
        "fig.show()"
      ],
      "execution_count": null,
      "outputs": []
    },
    {
      "cell_type": "markdown",
      "metadata": {
        "id": "FMfVXt3zVj5B"
      },
      "source": [
        "## scatter plot 3d"
      ]
    },
    {
      "cell_type": "code",
      "metadata": {
        "id": "3nWNc3C_VltM"
      },
      "source": [
        "fig = px.scatter_3d(df, x=col_list[0], y=col_list[1], z=col_list[2],\n",
        "               color=\"cluster\", hover_data=['user_id'],color_discrete_sequence=['darkturquoise','darkorange','darkmagenta','teal'])\n",
        "fig.show()"
      ],
      "execution_count": null,
      "outputs": []
    },
    {
      "cell_type": "markdown",
      "metadata": {
        "id": "-nQS_muYex4I"
      },
      "source": [
        "## scatter plot for timeline"
      ]
    },
    {
      "cell_type": "code",
      "metadata": {
        "id": "bP3TU6poe0Wk"
      },
      "source": [
        "fig = px.line(df.sort_values(by=['day_count']), x='day_count', y='col_name',hover_name='day',hover_data=['col1','col2','col2']\n",
        "            ,title=user_id,\n",
        "            color_discrete_sequence=['teal'],\n",
        "             height=400)\n",
        "\n",
        "fig.add_trace(go.Scatter(x=df['day_count'], y=df['col_name'],\n",
        "                    mode='lines', marker_color='navy', line = dict(color='cadetblue', width=2, dash='dot'),\n",
        "                    name='scatter for timeline'))\n",
        "fig.show()"
      ],
      "execution_count": null,
      "outputs": []
    },
    {
      "cell_type": "markdown",
      "metadata": {
        "id": "IFt9HZeggZpo"
      },
      "source": [
        "## scatter plot matrix"
      ]
    },
    {
      "cell_type": "code",
      "metadata": {
        "id": "7rHiLVFdgWNQ"
      },
      "source": [
        " fig = px.scatter_matrix(prediction,\n",
        "     dimensions=[\"res_e\", \"res_n\", \"res_a\", \"res_c\",\"res_o\"],\n",
        "     color_continuous_scale=['purple','gold','skyblue','darkcyan','green']\n",
        "     ,color=\"Cluster\")\n",
        "\n",
        "fig.update_layout(\n",
        "    title='Scater plot matrix',\n",
        "    width=1000,\n",
        "    height=1000,\n",
        ")\n",
        "fig.show()"
      ],
      "execution_count": null,
      "outputs": []
    },
    {
      "cell_type": "markdown",
      "metadata": {
        "id": "pQslSIJgBJ6p"
      },
      "source": [
        "## scatter plot - seprated to traces"
      ]
    },
    {
      "cell_type": "code",
      "metadata": {
        "id": "hdrTZvV6BO5_"
      },
      "source": [
        "fig = make_subplots(rows=11, cols=1)\n",
        "\n",
        "\n",
        "fig.append_trace(go.Scatter(\n",
        "    x=r_df['date'].loc[r_df['user_id']=='user1'],\n",
        "    y=r_df['count'].loc[r_df['user_id']=='user1'],mode = 'markers',name=\"user1\",\n",
        "), row=1, col=1)\n",
        "\n",
        "fig.append_trace(go.Scatter(\n",
        "    x=r_df['date'].loc[r_df['user_id']=='user2'],\n",
        "    y=r_df['count'].loc[r_df['user_id']=='user2'],mode = 'markers',name=\"user2\"\n",
        "), row=2, col=1)\n",
        "\n",
        "fig.append_trace(go.Scatter(\n",
        "    x=r_df['date'].loc[r_df['user_id']=='user3'],\n",
        "    y=r_df['count'].loc[r_df['user_id']=='user3'],mode = 'markers',name=\"user3\"\n",
        "), row=3, col=1)\n",
        "\n",
        "\n",
        "\n",
        "fig.update_layout(height=1200, width=1200, title_text=\"count over time\")\n",
        "fig.show()"
      ],
      "execution_count": null,
      "outputs": []
    },
    {
      "cell_type": "markdown",
      "metadata": {
        "id": "e7Eq7UYLeoBK"
      },
      "source": [
        "## pie chart"
      ]
    },
    {
      "cell_type": "code",
      "metadata": {
        "id": "fppXS1FzepkM"
      },
      "source": [
        "fig = px.pie(df_all, names='col_name',color_discrete_sequence=[ 'mediumturquoise', 'paleturquoise','teal'],title='distrabutions')\n",
        "fig.update_traces(textposition='inside', textinfo='percent+label')\n",
        "\n",
        "fig.show()"
      ],
      "execution_count": null,
      "outputs": []
    },
    {
      "cell_type": "markdown",
      "metadata": {
        "id": "KM2vpTvdVnr2"
      },
      "source": [
        "## sun burst"
      ]
    },
    {
      "cell_type": "code",
      "metadata": {
        "id": "RAAQoYOUVpMF"
      },
      "source": [
        "fig = px.sunburst(df_all,title=user_id+' distrabutions',path=['col1', 'col2'],color_discrete_sequence=[ 'mediumturquoise', 'paleturquoise','teal'])\n",
        "fig.show()\n"
      ],
      "execution_count": null,
      "outputs": []
    },
    {
      "cell_type": "markdown",
      "metadata": {
        "id": "5VzWYr8FeZ1b"
      },
      "source": [
        "\n",
        "## box plot + white backround"
      ]
    },
    {
      "cell_type": "code",
      "metadata": {
        "id": "TunmWoYoebkB"
      },
      "source": [
        "fig = px.box(df, x=\"class\", y=\"col_name\", color=\"class\",title=\"box plot per class\",width=500,color_discrete_sequence=[\"darkorange\",\"darkviolet\",\"teal\"]\n",
        "             )\n",
        "\n",
        "fig.update_layout({\n",
        "'plot_bgcolor': 'rgba(0, 0, 0, 0)',\n",
        "'paper_bgcolor': 'rgba(0, 0, 0, 0)',\n",
        "})\n",
        "\n",
        "\n",
        "fig.show()"
      ],
      "execution_count": null,
      "outputs": []
    },
    {
      "cell_type": "markdown",
      "metadata": {
        "id": "zLHsTV1EgJRI"
      },
      "source": [
        "## box plot - violin"
      ]
    },
    {
      "cell_type": "code",
      "metadata": {
        "id": "s9t6DrbxgLrY"
      },
      "source": [
        "fig = px.violin(prediction, y=\"col_name\", x=\"Cluster\", box=True,color_discrete_sequence=[\"steelblue\"],title=\"Box plot of agreeableness\")\n",
        "\n",
        "fig.show()\n"
      ],
      "execution_count": null,
      "outputs": []
    },
    {
      "cell_type": "markdown",
      "metadata": {
        "id": "Q2jeP7QefsPC"
      },
      "source": [
        "## cor matrix"
      ]
    },
    {
      "cell_type": "code",
      "metadata": {
        "id": "qHukznSmfuWA"
      },
      "source": [
        "cor_res=results[['res_e','res_n','res_a','res_c','res_o']]\n",
        "corrMatrix = cor_res.corr()\n",
        "print(\"corr\")\n",
        "sn.heatmap(corrMatrix, annot=True)\n"
      ],
      "execution_count": null,
      "outputs": []
    },
    {
      "cell_type": "markdown",
      "metadata": {
        "id": "-EFKWxhwlRbm"
      },
      "source": [
        "## change y ticks to %"
      ]
    },
    {
      "cell_type": "code",
      "metadata": {
        "id": "zKACf6BflUrz"
      },
      "source": [
        "fig = px.bar(combined, x=\"date\", y=\"active_ratio\",color_discrete_sequence=['darkmagenta','teal'],\n",
        "             color='cluster', barmode='group',\n",
        "             height=400)\n",
        "fig.update_layout(yaxis_tickformat = '%')\n",
        "fig.show()"
      ],
      "execution_count": null,
      "outputs": []
    },
    {
      "cell_type": "markdown",
      "metadata": {
        "id": "RL5ORcg7VueA"
      },
      "source": [
        "# smothing"
      ]
    },
    {
      "cell_type": "code",
      "metadata": {
        "id": "k9zEg1wvKlKy"
      },
      "source": [
        "# Exponential Smoothing\n",
        "def exponential_smoothing(alpha,beta,df_series):\n",
        "  ts=df_series.to_numpy()\n",
        "  f = [np.nan]\n",
        "  # The forecast for the second point is defined as the first data point\n",
        "  f.append(ts[0]) # first in array\n",
        "  f.append((alpha)*f[-1]+(1-alpha)*ts[1]) #second in arary\n",
        "  # We will now loop through the time serie and update our forecast\n",
        "  for t in range(2,(len(ts)-1)):\n",
        "    f.append((beta)*f[-2]+(alpha)*f[-1]+(1-alpha-beta)*ts[t])\n",
        "  return f\n"
      ],
      "execution_count": null,
      "outputs": []
    },
    {
      "cell_type": "code",
      "metadata": {
        "id": "Zxzk5mk2KnAP"
      },
      "source": [
        "  alpha=0.25\n",
        "  beta=0.05\n",
        "  merged['sum_events_smoothed']=exponential_smoothing(alpha,beta,merged['sum_events'])\n",
        ""
      ],
      "execution_count": null,
      "outputs": []
    },
    {
      "cell_type": "markdown",
      "metadata": {
        "id": "L-V_gEFMu31C"
      },
      "source": [
        "# statistic error"
      ]
    },
    {
      "cell_type": "code",
      "metadata": {
        "id": "WuOlgKP5u2u-"
      },
      "source": [
        "def statistics error(df):\n",
        "  eval_table=pd.DataFrame({'mean': df.mean(),'std': df.std()})\n",
        "  eval_table['mean_abs']=eval_table['mean'].abs()\n",
        "  eval_table=eval_table.sort_values(by=['mean_abs'],ascending=False)\n",
        "  eval_table['statistic_error']=1.96*(eval_table['std']/math.sqrt(len(coef_eval.index))) #1.96 = Z 0.95\n",
        "\n",
        "\n"
      ],
      "execution_count": null,
      "outputs": []
    },
    {
      "cell_type": "code",
      "metadata": {
        "id": "6iGn7A9Q3oBZ"
      },
      "source": [
        " fig = go.Figure()\n",
        "fig.add_trace(go.Bar(\n",
        "    x=eval_table.index, y=eval_table['mean_abs'],marker_color='indianred',\n",
        "    error_y=dict(type='data', array=eval_table['statistic_error'],color='orange')\n",
        "))\n",
        "\n",
        "fig.update_layout(title_text='Coef (abs) with statistic error')\n",
        "fig.show()\n"
      ],
      "execution_count": null,
      "outputs": []
    }
  ]
}